{
  "nbformat": 4,
  "nbformat_minor": 0,
  "metadata": {
    "colab": {
      "provenance": []
    },
    "kernelspec": {
      "name": "python3",
      "display_name": "Python 3"
    },
    "language_info": {
      "name": "python"
    }
  },
  "cells": [
    {
      "cell_type": "code",
      "execution_count": null,
      "metadata": {
        "colab": {
          "base_uri": "https://localhost:8080/"
        },
        "id": "ivww_gXVPpB0",
        "outputId": "6561e263-8b5d-4a90-ce28-864355945865"
      },
      "outputs": [
        {
          "output_type": "stream",
          "name": "stdout",
          "text": [
            "Enter the string 'Python' as a list of characters: Python\n",
            "Reversed string: htyP\n"
          ]
        }
      ],
      "source": [
        "##1. Input the string “Python” as a list of characters from console, delete at least 2 characters, reverse the resultant string and print it.\n",
        "input_string = list(input(\"Enter the string 'Python' as a list of characters: \"))\n",
        "if len(input_string) >= 2:\n",
        "    del input_string[-2:]\n",
        "input_string.reverse()\n",
        "print(\"Reversed string:\", ''.join(input_string))"
      ]
    },
    {
      "cell_type": "code",
      "source": [
        "#Take two numbers from user and perform at least 4 arithmetic operations on them.\n",
        "num1 = float(input(\" Enter the First Value: \"))\n",
        "num2 = float(input(\" Enter the Second Value: \"))\n",
        "add = num1 + num2\n",
        "sub = num1 - num2\n",
        "multi = num1 * num2\n",
        "div = num1 / num2\n",
        "print(\"Addition of two numbers: \", add)\n",
        "print(\"Subtraction of two numbers: \", sub)\n",
        "print(\"Multiplication of two numbers: \", multi)\n",
        "print(\"Division of two numbers: \", div)"
      ],
      "metadata": {
        "colab": {
          "base_uri": "https://localhost:8080/"
        },
        "id": "9rTEAef5SZa9",
        "outputId": "d59421bd-7831-4053-cffa-d0c044d0f22b"
      },
      "execution_count": null,
      "outputs": [
        {
          "output_type": "stream",
          "name": "stdout",
          "text": [
            " Enter the First Value: 10\n",
            " Enter the Second Value: 20\n",
            "Addition of two numbers:  30.0\n",
            "Subtraction of two numbers:  -10.0\n",
            "Multiplication of two numbers:  200.0\n",
            "Division of two numbers:  0.5\n"
          ]
        }
      ]
    },
    {
      "cell_type": "code",
      "source": [
        "#Write a program that accepts a sentence and replace each occurrence of ‘python’ with ‘pythons’.\n",
        "sentence = input(\"Enter a sentence: \")\n",
        "replaced_sentence = sentence.replace(\"python\", \"pythons\")\n",
        "print(\"Replaced sentence:\", replaced_sentence)"
      ],
      "metadata": {
        "colab": {
          "base_uri": "https://localhost:8080/"
        },
        "id": "u7hsBf8uTTbN",
        "outputId": "1e675882-5ad2-4c6e-86c1-c51e45d1283f"
      },
      "execution_count": null,
      "outputs": [
        {
          "output_type": "stream",
          "name": "stdout",
          "text": [
            "Enter a sentence: python is high level language\n",
            "Replaced sentence: pythons is high level language\n"
          ]
        }
      ]
    },
    {
      "cell_type": "code",
      "source": [
        "# Use the if statement conditions to write a program to print the letter grade based on an input classscore. Use the grading scheme we are using in this class\n",
        "class_score = float(input(\"Enter the class score: \"))\n",
        "\n",
        "# Define grading scheme (you can adjust the score ranges as needed)\n",
        "A_score = 90\n",
        "B_score = 80\n",
        "C_score = 70\n",
        "D_score = 60\n",
        "\n",
        "# Use if statements to determine the letter grade\n",
        "if class_score >= A_score:\n",
        "    grade = 'A'\n",
        "elif class_score >= B_score:\n",
        "    grade = 'B'\n",
        "elif class_score >= C_score:\n",
        "    grade = 'C'\n",
        "elif class_score >= D_score:\n",
        "    grade = 'D'\n",
        "else:\n",
        "    grade = 'F'\n",
        "\n",
        "# Print the letter grade\n",
        "print(\"Letter Grade:\", grade)"
      ],
      "metadata": {
        "id": "ILo9apivSGCB",
        "colab": {
          "base_uri": "https://localhost:8080/"
        },
        "outputId": "59291302-68e3-4568-caa3-14ae99fd28e9"
      },
      "execution_count": 1,
      "outputs": [
        {
          "output_type": "stream",
          "name": "stdout",
          "text": [
            "Enter the class score: 90\n",
            "Letter Grade: A\n"
          ]
        }
      ]
    }
  ]
}